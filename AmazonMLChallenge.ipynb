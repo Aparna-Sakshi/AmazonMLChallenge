{
  "nbformat": 4,
  "nbformat_minor": 0,
  "metadata": {
    "colab": {
      "name": "AmazonMLChallenge.ipynb",
      "provenance": [],
      "collapsed_sections": []
    },
    "kernelspec": {
      "name": "python3",
      "display_name": "Python 3"
    },
    "language_info": {
      "name": "python"
    }
  },
  "cells": [
    {
      "cell_type": "code",
      "metadata": {
        "id": "pO2Q0Hx3WiIj",
        "colab": {
          "base_uri": "https://localhost:8080/"
        },
        "outputId": "50880d9c-c035-47e8-9d61-b70be74ee877"
      },
      "source": [
        "\n",
        "from google.colab import drive\n",
        "drive.mount('/content/gdrive')"
      ],
      "execution_count": 1,
      "outputs": [
        {
          "output_type": "stream",
          "text": [
            "Mounted at /content/gdrive\n"
          ],
          "name": "stdout"
        }
      ]
    },
    {
      "cell_type": "code",
      "metadata": {
        "id": "7LdbjOJ2LF5x"
      },
      "source": [
        "import csv\n",
        "import pandas as pd\n",
        "import numpy as np\n",
        "import matplotlib.pyplot as plt\n",
        "plt.style.use('ggplot')"
      ],
      "execution_count": 2,
      "outputs": []
    },
    {
      "cell_type": "code",
      "metadata": {
        "colab": {
          "base_uri": "https://localhost:8080/"
        },
        "id": "kdOngV8195tn",
        "outputId": "90ef1280-d5f2-464c-cf8c-ac6029d2e7a0"
      },
      "source": [
        "import gensim\n",
        "from gensim.utils import simple_preprocess\n",
        "from gensim.parsing.preprocessing import STOPWORDS\n",
        "from nltk.stem import WordNetLemmatizer, SnowballStemmer\n",
        "from nltk.stem import PorterStemmer\n",
        "from nltk.stem.porter import *\n",
        "import numpy as np\n",
        "np.random.seed(2018)\n",
        "import nltk\n",
        "nltk.download('wordnet')"
      ],
      "execution_count": 7,
      "outputs": [
        {
          "output_type": "stream",
          "text": [
            "[nltk_data] Downloading package wordnet to /root/nltk_data...\n",
            "[nltk_data]   Unzipping corpora/wordnet.zip.\n"
          ],
          "name": "stdout"
        },
        {
          "output_type": "execute_result",
          "data": {
            "text/plain": [
              "True"
            ]
          },
          "metadata": {
            "tags": []
          },
          "execution_count": 7
        }
      ]
    },
    {
      "cell_type": "code",
      "metadata": {
        "id": "QtIkF3us0ApX"
      },
      "source": [
        "def lemmatize_stemming(text):\n",
        "    return WordNetLemmatizer().lemmatize(text, pos='v')\n",
        "\n",
        "def preprocess(text):\n",
        "    result = []\n",
        "    for token in gensim.utils.simple_preprocess(text):\n",
        "        if token not in gensim.parsing.preprocessing.STOPWORDS and len(token) > 2:\n",
        "            result.append(lemmatize_stemming(token))\n",
        "    return \" \".join(result)+\" \""
      ],
      "execution_count": 8,
      "outputs": []
    },
    {
      "cell_type": "code",
      "metadata": {
        "id": "e_HBBJhAzqCD"
      },
      "source": [
        "def process(df):  \n",
        "  processed_docs = df['TITLE']+\" \"+df['DESCRIPTION']+\" \"+df['BULLET_POINTS']+\" \"+df['BRAND']\n",
        "  return processed_docs.astype(str).map(preprocess)"
      ],
      "execution_count": 11,
      "outputs": []
    },
    {
      "cell_type": "code",
      "metadata": {
        "colab": {
          "base_uri": "https://localhost:8080/"
        },
        "id": "_EUKFAUzlgmV",
        "outputId": "5ee724dd-1e15-4e08-f0b6-66e47b6dd511"
      },
      "source": [
        "chunksize = (10 ** 5)\n",
        "total_size = 110775\t\n",
        "total_chunks = total_size//chunksize + 1\n",
        "threshold = (total_chunks*2)//3\n",
        "print(\"Chunk Size:\",chunksize)\n",
        "print(\"Total Size:\",total_size)\n",
        "print(\"Total Chunks:\",total_chunks)\n",
        "print(\"Threshold:\", threshold)\n",
        "print(\"_________________________________________________\")\n",
        "\n",
        "filename = \"/content/gdrive/MyDrive/AmazonMLChallenge/train.csv\"\n",
        "cols=[\"DOCUMENT\",\"TARGET\"]\n",
        "chunk_number=0\n",
        "for chunk in pd.read_csv(filename, chunksize=chunksize, escapechar = \"\\\\\", na_values='' ,quoting = csv.QUOTE_NONE):\n",
        "  chunk_number+=1 \n",
        "  chunk.fillna(\" \",inplace=True)\n",
        "  print(\"Processing Chunk:\",chunk_number)\n",
        "  processed_chunk = pd.DataFrame()  \n",
        "  processed_chunk[\"DOCUMENT\"] = process(chunk) \n",
        "  processed_chunk[\"TARGET\"] = chunk['BROWSE_NODE_ID']\n",
        "  if chunk_number<=threshold:  \n",
        "    if chunk_number==1:\n",
        "      processed_chunk.to_csv('/content/gdrive/MyDrive/AmazonMLChallenge/processed_train.csv')\n",
        "    else:\n",
        "      processed_chunk.to_csv('/content/gdrive/MyDrive/AmazonMLChallenge/processed_train.csv', mode='a', header=False)    \n",
        "  else:\n",
        "    if chunk_number==(threshold+1):\n",
        "      processed_chunk.to_csv('/content/gdrive/MyDrive/AmazonMLChallenge/processed_test.csv')\n",
        "    else:\n",
        "      processed_chunk.to_csv('/content/gdrive/MyDrive/AmazonMLChallenge/processed_test.csv', mode='a', header=False) \n",
        "    \n",
        "\n",
        "\n",
        "\n",
        "  "
      ],
      "execution_count": 39,
      "outputs": [
        {
          "output_type": "stream",
          "text": [
            "Chunk Size: 100000\n",
            "Total Size: 2902953\n",
            "Total Chunks: 30\n",
            "Threshold: 20\n",
            "_________________________________________________\n",
            "Processing Chunk: 1\n",
            "Processing Chunk: 2\n",
            "Processing Chunk: 3\n",
            "Processing Chunk: 4\n",
            "Processing Chunk: 5\n",
            "Processing Chunk: 6\n",
            "Processing Chunk: 7\n",
            "Processing Chunk: 8\n",
            "Processing Chunk: 9\n",
            "Processing Chunk: 10\n",
            "Processing Chunk: 11\n",
            "Processing Chunk: 12\n",
            "Processing Chunk: 13\n",
            "Processing Chunk: 14\n",
            "Processing Chunk: 15\n",
            "Processing Chunk: 16\n",
            "Processing Chunk: 17\n",
            "Processing Chunk: 18\n",
            "Processing Chunk: 19\n",
            "Processing Chunk: 20\n",
            "Processing Chunk: 21\n",
            "Processing Chunk: 22\n",
            "Processing Chunk: 23\n",
            "Processing Chunk: 24\n",
            "Processing Chunk: 25\n",
            "Processing Chunk: 26\n",
            "Processing Chunk: 27\n",
            "Processing Chunk: 28\n",
            "Processing Chunk: 29\n",
            "Processing Chunk: 30\n"
          ],
          "name": "stdout"
        }
      ]
    },
    {
      "cell_type": "markdown",
      "metadata": {
        "id": "jsbBU_YTomNx"
      },
      "source": [
        "## Exploratory Data Analysis"
      ]
    },
    {
      "cell_type": "code",
      "metadata": {
        "id": "OMx3KtVOXqsp"
      },
      "source": [
        "def load_csv(filepath):\n",
        "    data =  []\n",
        "    col = []\n",
        "    checkcol = False\n",
        "    with open(filepath,encoding=\"utf8\") as f:\n",
        "        for val in zip(f.readlines(),range(10000)):\n",
        "            val = val.replace(\"\\,\",\";\")\n",
        "            val = val.replace(\"\\n\",\"\")\n",
        "            val = val.split(',')\n",
        "            if checkcol is False:\n",
        "                col = val\n",
        "                checkcol = True\n",
        "            else:\n",
        "                data.append(val)\n",
        "    df = pd.DataFrame(data=data, columns=col)\n",
        "    return df"
      ],
      "execution_count": null,
      "outputs": []
    },
    {
      "cell_type": "code",
      "metadata": {
        "id": "luc9iHPYTzZt"
      },
      "source": [
        "\n",
        "\n",
        "\n",
        "df = pd.read_csv('/content/gdrive/MyDrive/AmazonMLChallenge/train.csv', escapechar = \"\\\\\", quoting = csv.QUOTE_NONE)\n"
      ],
      "execution_count": 8,
      "outputs": []
    },
    {
      "cell_type": "code",
      "metadata": {
        "colab": {
          "base_uri": "https://localhost:8080/",
          "height": 203
        },
        "id": "DLwjrHnvVnU_",
        "outputId": "98ae6c2b-758e-4882-a5e2-98d1956d146b"
      },
      "source": [
        "df.head(5)"
      ],
      "execution_count": null,
      "outputs": [
        {
          "output_type": "execute_result",
          "data": {
            "text/html": [
              "<div>\n",
              "<style scoped>\n",
              "    .dataframe tbody tr th:only-of-type {\n",
              "        vertical-align: middle;\n",
              "    }\n",
              "\n",
              "    .dataframe tbody tr th {\n",
              "        vertical-align: top;\n",
              "    }\n",
              "\n",
              "    .dataframe thead th {\n",
              "        text-align: right;\n",
              "    }\n",
              "</style>\n",
              "<table border=\"1\" class=\"dataframe\">\n",
              "  <thead>\n",
              "    <tr style=\"text-align: right;\">\n",
              "      <th></th>\n",
              "      <th>TITLE</th>\n",
              "      <th>DESCRIPTION</th>\n",
              "      <th>BULLET_POINTS</th>\n",
              "      <th>BRAND</th>\n",
              "      <th>BROWSE_NODE_ID</th>\n",
              "    </tr>\n",
              "  </thead>\n",
              "  <tbody>\n",
              "    <tr>\n",
              "      <th>0</th>\n",
              "      <td>Pete The Cat Bedtime Blues Doll, 14.5 Inch</td>\n",
              "      <td>Pete the Cat is the coolest, most popular cat ...</td>\n",
              "      <td>[Pete the Cat Bedtime Blues plush doll,Based o...</td>\n",
              "      <td>MerryMakers</td>\n",
              "      <td>0</td>\n",
              "    </tr>\n",
              "    <tr>\n",
              "      <th>1</th>\n",
              "      <td>The New Yorker NYHM014 Refrigerator Magnet, 2 ...</td>\n",
              "      <td>The New Yorker Handsome Cello Wrapped Hard Mag...</td>\n",
              "      <td>[Cat In A Tea Cup by New Yorker cover artist G...</td>\n",
              "      <td>The New Yorker</td>\n",
              "      <td>1</td>\n",
              "    </tr>\n",
              "    <tr>\n",
              "      <th>2</th>\n",
              "      <td>The Ultimate Self-Sufficiency Handbook: A Comp...</td>\n",
              "      <td>NaN</td>\n",
              "      <td>Skyhorse Publishing</td>\n",
              "      <td>imusti</td>\n",
              "      <td>2</td>\n",
              "    </tr>\n",
              "    <tr>\n",
              "      <th>3</th>\n",
              "      <td>Amway Nutrilite Kids Chewable Iron Tablets (100)</td>\n",
              "      <td>NaN</td>\n",
              "      <td>[Nutrilite Kids,Chewable Iron Tablets,Quantity...</td>\n",
              "      <td>Amway</td>\n",
              "      <td>3</td>\n",
              "    </tr>\n",
              "    <tr>\n",
              "      <th>4</th>\n",
              "      <td>Teacher Planner Company A4 6 Lesson Academic T...</td>\n",
              "      <td>NaN</td>\n",
              "      <td>NaN</td>\n",
              "      <td>NaN</td>\n",
              "      <td>4</td>\n",
              "    </tr>\n",
              "  </tbody>\n",
              "</table>\n",
              "</div>"
            ],
            "text/plain": [
              "                                               TITLE  ... BROWSE_NODE_ID\n",
              "0         Pete The Cat Bedtime Blues Doll, 14.5 Inch  ...              0\n",
              "1  The New Yorker NYHM014 Refrigerator Magnet, 2 ...  ...              1\n",
              "2  The Ultimate Self-Sufficiency Handbook: A Comp...  ...              2\n",
              "3   Amway Nutrilite Kids Chewable Iron Tablets (100)  ...              3\n",
              "4  Teacher Planner Company A4 6 Lesson Academic T...  ...              4\n",
              "\n",
              "[5 rows x 5 columns]"
            ]
          },
          "metadata": {
            "tags": []
          },
          "execution_count": 4
        }
      ]
    },
    {
      "cell_type": "code",
      "metadata": {
        "colab": {
          "base_uri": "https://localhost:8080/",
          "height": 172
        },
        "id": "6HBVRltVV01G",
        "outputId": "5fd7d982-b2f0-4a75-8dea-5600d2780daa"
      },
      "source": [
        "df.describe(include=np.object)"
      ],
      "execution_count": null,
      "outputs": [
        {
          "output_type": "execute_result",
          "data": {
            "text/html": [
              "<div>\n",
              "<style scoped>\n",
              "    .dataframe tbody tr th:only-of-type {\n",
              "        vertical-align: middle;\n",
              "    }\n",
              "\n",
              "    .dataframe tbody tr th {\n",
              "        vertical-align: top;\n",
              "    }\n",
              "\n",
              "    .dataframe thead th {\n",
              "        text-align: right;\n",
              "    }\n",
              "</style>\n",
              "<table border=\"1\" class=\"dataframe\">\n",
              "  <thead>\n",
              "    <tr style=\"text-align: right;\">\n",
              "      <th></th>\n",
              "      <th>TITLE</th>\n",
              "      <th>DESCRIPTION</th>\n",
              "      <th>BULLET_POINTS</th>\n",
              "      <th>BRAND</th>\n",
              "    </tr>\n",
              "  </thead>\n",
              "  <tbody>\n",
              "    <tr>\n",
              "      <th>count</th>\n",
              "      <td>2902953</td>\n",
              "      <td>2179360</td>\n",
              "      <td>2736761</td>\n",
              "      <td>2846287</td>\n",
              "    </tr>\n",
              "    <tr>\n",
              "      <th>unique</th>\n",
              "      <td>2751512</td>\n",
              "      <td>1278942</td>\n",
              "      <td>1668898</td>\n",
              "      <td>258265</td>\n",
              "    </tr>\n",
              "    <tr>\n",
              "      <th>top</th>\n",
              "      <td>ZEBRA BLINDS Polyester Curtain for Windows Or ...</td>\n",
              "      <td>Shengshou back covers are the best attractive ...</td>\n",
              "      <td>[OUT OF THE BOX DESIGNS &amp; VIBRANT PRINT : Our ...</td>\n",
              "      <td>Generic</td>\n",
              "    </tr>\n",
              "    <tr>\n",
              "      <th>freq</th>\n",
              "      <td>163</td>\n",
              "      <td>5475</td>\n",
              "      <td>4351</td>\n",
              "      <td>107303</td>\n",
              "    </tr>\n",
              "  </tbody>\n",
              "</table>\n",
              "</div>"
            ],
            "text/plain": [
              "                                                    TITLE  ...    BRAND\n",
              "count                                             2902953  ...  2846287\n",
              "unique                                            2751512  ...   258265\n",
              "top     ZEBRA BLINDS Polyester Curtain for Windows Or ...  ...  Generic\n",
              "freq                                                  163  ...   107303\n",
              "\n",
              "[4 rows x 4 columns]"
            ]
          },
          "metadata": {
            "tags": []
          },
          "execution_count": 8
        }
      ]
    },
    {
      "cell_type": "code",
      "metadata": {
        "id": "UBeBeIPmWka3"
      },
      "source": [
        "df['SLNO']=[i for i in range(len(df))]"
      ],
      "execution_count": null,
      "outputs": []
    },
    {
      "cell_type": "code",
      "metadata": {
        "colab": {
          "base_uri": "https://localhost:8080/",
          "height": 1000
        },
        "id": "zsriaAqaLASn",
        "outputId": "9b83fda7-4e0b-4eeb-b0f2-0b5bd123ac4b"
      },
      "source": [
        "browse_nodes=df.groupby('BROWSE_NODE_ID').count().sort_values(by='SLNO',ascending=False)\n"
      ],
      "execution_count": null,
      "outputs": [
        {
          "output_type": "execute_result",
          "data": {
            "text/html": [
              "<div>\n",
              "<style scoped>\n",
              "    .dataframe tbody tr th:only-of-type {\n",
              "        vertical-align: middle;\n",
              "    }\n",
              "\n",
              "    .dataframe tbody tr th {\n",
              "        vertical-align: top;\n",
              "    }\n",
              "\n",
              "    .dataframe thead th {\n",
              "        text-align: right;\n",
              "    }\n",
              "</style>\n",
              "<table border=\"1\" class=\"dataframe\">\n",
              "  <thead>\n",
              "    <tr style=\"text-align: right;\">\n",
              "      <th></th>\n",
              "      <th>TITLE</th>\n",
              "      <th>DESCRIPTION</th>\n",
              "      <th>BULLET_POINTS</th>\n",
              "      <th>BRAND</th>\n",
              "      <th>SLNO</th>\n",
              "    </tr>\n",
              "    <tr>\n",
              "      <th>BROWSE_NODE_ID</th>\n",
              "      <th></th>\n",
              "      <th></th>\n",
              "      <th></th>\n",
              "      <th></th>\n",
              "      <th></th>\n",
              "    </tr>\n",
              "  </thead>\n",
              "  <tbody>\n",
              "    <tr>\n",
              "      <th>1045</th>\n",
              "      <td>215698</td>\n",
              "      <td>209563</td>\n",
              "      <td>214798</td>\n",
              "      <td>215250</td>\n",
              "      <td>215698</td>\n",
              "    </tr>\n",
              "    <tr>\n",
              "      <th>5</th>\n",
              "      <td>70317</td>\n",
              "      <td>45077</td>\n",
              "      <td>68777</td>\n",
              "      <td>70284</td>\n",
              "      <td>70318</td>\n",
              "    </tr>\n",
              "    <tr>\n",
              "      <th>1251</th>\n",
              "      <td>51929</td>\n",
              "      <td>30167</td>\n",
              "      <td>50902</td>\n",
              "      <td>51915</td>\n",
              "      <td>51929</td>\n",
              "    </tr>\n",
              "    <tr>\n",
              "      <th>1052</th>\n",
              "      <td>45553</td>\n",
              "      <td>38283</td>\n",
              "      <td>44282</td>\n",
              "      <td>45552</td>\n",
              "      <td>45553</td>\n",
              "    </tr>\n",
              "    <tr>\n",
              "      <th>4</th>\n",
              "      <td>34168</td>\n",
              "      <td>13882</td>\n",
              "      <td>12501</td>\n",
              "      <td>16567</td>\n",
              "      <td>34177</td>\n",
              "    </tr>\n",
              "    <tr>\n",
              "      <th>1295</th>\n",
              "      <td>32040</td>\n",
              "      <td>31250</td>\n",
              "      <td>31850</td>\n",
              "      <td>31971</td>\n",
              "      <td>32040</td>\n",
              "    </tr>\n",
              "    <tr>\n",
              "      <th>1024</th>\n",
              "      <td>31961</td>\n",
              "      <td>11052</td>\n",
              "      <td>31449</td>\n",
              "      <td>31959</td>\n",
              "      <td>31961</td>\n",
              "    </tr>\n",
              "    <tr>\n",
              "      <th>374</th>\n",
              "      <td>31896</td>\n",
              "      <td>30244</td>\n",
              "      <td>31208</td>\n",
              "      <td>31620</td>\n",
              "      <td>31896</td>\n",
              "    </tr>\n",
              "    <tr>\n",
              "      <th>773</th>\n",
              "      <td>25898</td>\n",
              "      <td>16653</td>\n",
              "      <td>25490</td>\n",
              "      <td>25886</td>\n",
              "      <td>25899</td>\n",
              "    </tr>\n",
              "    <tr>\n",
              "      <th>1194</th>\n",
              "      <td>25890</td>\n",
              "      <td>14472</td>\n",
              "      <td>25417</td>\n",
              "      <td>25886</td>\n",
              "      <td>25893</td>\n",
              "    </tr>\n",
              "    <tr>\n",
              "      <th>1724</th>\n",
              "      <td>25535</td>\n",
              "      <td>16212</td>\n",
              "      <td>24977</td>\n",
              "      <td>25519</td>\n",
              "      <td>25536</td>\n",
              "    </tr>\n",
              "    <tr>\n",
              "      <th>701</th>\n",
              "      <td>23425</td>\n",
              "      <td>10659</td>\n",
              "      <td>22557</td>\n",
              "      <td>23419</td>\n",
              "      <td>23425</td>\n",
              "    </tr>\n",
              "    <tr>\n",
              "      <th>11</th>\n",
              "      <td>21660</td>\n",
              "      <td>17381</td>\n",
              "      <td>21298</td>\n",
              "      <td>21591</td>\n",
              "      <td>21660</td>\n",
              "    </tr>\n",
              "    <tr>\n",
              "      <th>739</th>\n",
              "      <td>20750</td>\n",
              "      <td>16386</td>\n",
              "      <td>20392</td>\n",
              "      <td>20635</td>\n",
              "      <td>20750</td>\n",
              "    </tr>\n",
              "    <tr>\n",
              "      <th>1049</th>\n",
              "      <td>20163</td>\n",
              "      <td>12692</td>\n",
              "      <td>19919</td>\n",
              "      <td>20156</td>\n",
              "      <td>20164</td>\n",
              "    </tr>\n",
              "    <tr>\n",
              "      <th>89</th>\n",
              "      <td>19566</td>\n",
              "      <td>7741</td>\n",
              "      <td>18778</td>\n",
              "      <td>19563</td>\n",
              "      <td>19566</td>\n",
              "    </tr>\n",
              "    <tr>\n",
              "      <th>1186</th>\n",
              "      <td>16941</td>\n",
              "      <td>9811</td>\n",
              "      <td>16371</td>\n",
              "      <td>16937</td>\n",
              "      <td>16941</td>\n",
              "    </tr>\n",
              "    <tr>\n",
              "      <th>1687</th>\n",
              "      <td>16148</td>\n",
              "      <td>10847</td>\n",
              "      <td>15727</td>\n",
              "      <td>16162</td>\n",
              "      <td>16163</td>\n",
              "    </tr>\n",
              "    <tr>\n",
              "      <th>803</th>\n",
              "      <td>16094</td>\n",
              "      <td>12618</td>\n",
              "      <td>15295</td>\n",
              "      <td>16017</td>\n",
              "      <td>16096</td>\n",
              "    </tr>\n",
              "    <tr>\n",
              "      <th>251</th>\n",
              "      <td>16015</td>\n",
              "      <td>14445</td>\n",
              "      <td>15338</td>\n",
              "      <td>15912</td>\n",
              "      <td>16015</td>\n",
              "    </tr>\n",
              "    <tr>\n",
              "      <th>1084</th>\n",
              "      <td>15687</td>\n",
              "      <td>13021</td>\n",
              "      <td>15301</td>\n",
              "      <td>15589</td>\n",
              "      <td>15688</td>\n",
              "    </tr>\n",
              "    <tr>\n",
              "      <th>40</th>\n",
              "      <td>14784</td>\n",
              "      <td>4257</td>\n",
              "      <td>14606</td>\n",
              "      <td>14777</td>\n",
              "      <td>14784</td>\n",
              "    </tr>\n",
              "    <tr>\n",
              "      <th>1003</th>\n",
              "      <td>13846</td>\n",
              "      <td>5640</td>\n",
              "      <td>13592</td>\n",
              "      <td>13838</td>\n",
              "      <td>13846</td>\n",
              "    </tr>\n",
              "    <tr>\n",
              "      <th>413</th>\n",
              "      <td>13470</td>\n",
              "      <td>11183</td>\n",
              "      <td>13127</td>\n",
              "      <td>13413</td>\n",
              "      <td>13470</td>\n",
              "    </tr>\n",
              "    <tr>\n",
              "      <th>1213</th>\n",
              "      <td>12876</td>\n",
              "      <td>5159</td>\n",
              "      <td>12631</td>\n",
              "      <td>12872</td>\n",
              "      <td>12876</td>\n",
              "    </tr>\n",
              "    <tr>\n",
              "      <th>465</th>\n",
              "      <td>12873</td>\n",
              "      <td>11046</td>\n",
              "      <td>12393</td>\n",
              "      <td>12869</td>\n",
              "      <td>12873</td>\n",
              "    </tr>\n",
              "    <tr>\n",
              "      <th>1254</th>\n",
              "      <td>12804</td>\n",
              "      <td>3127</td>\n",
              "      <td>12705</td>\n",
              "      <td>12804</td>\n",
              "      <td>12806</td>\n",
              "    </tr>\n",
              "    <tr>\n",
              "      <th>55</th>\n",
              "      <td>11486</td>\n",
              "      <td>8059</td>\n",
              "      <td>8673</td>\n",
              "      <td>9973</td>\n",
              "      <td>11486</td>\n",
              "    </tr>\n",
              "    <tr>\n",
              "      <th>1590</th>\n",
              "      <td>11098</td>\n",
              "      <td>9816</td>\n",
              "      <td>11043</td>\n",
              "      <td>11080</td>\n",
              "      <td>11098</td>\n",
              "    </tr>\n",
              "    <tr>\n",
              "      <th>1409</th>\n",
              "      <td>10909</td>\n",
              "      <td>5323</td>\n",
              "      <td>10668</td>\n",
              "      <td>10905</td>\n",
              "      <td>10910</td>\n",
              "    </tr>\n",
              "    <tr>\n",
              "      <th>912</th>\n",
              "      <td>10729</td>\n",
              "      <td>9411</td>\n",
              "      <td>10553</td>\n",
              "      <td>10693</td>\n",
              "      <td>10729</td>\n",
              "    </tr>\n",
              "    <tr>\n",
              "      <th>810</th>\n",
              "      <td>10561</td>\n",
              "      <td>6007</td>\n",
              "      <td>10146</td>\n",
              "      <td>10556</td>\n",
              "      <td>10561</td>\n",
              "    </tr>\n",
              "    <tr>\n",
              "      <th>324</th>\n",
              "      <td>10543</td>\n",
              "      <td>10064</td>\n",
              "      <td>10403</td>\n",
              "      <td>10526</td>\n",
              "      <td>10543</td>\n",
              "    </tr>\n",
              "    <tr>\n",
              "      <th>1313</th>\n",
              "      <td>10345</td>\n",
              "      <td>9159</td>\n",
              "      <td>10092</td>\n",
              "      <td>10342</td>\n",
              "      <td>10345</td>\n",
              "    </tr>\n",
              "  </tbody>\n",
              "</table>\n",
              "</div>"
            ],
            "text/plain": [
              "                 TITLE  DESCRIPTION  BULLET_POINTS   BRAND    SLNO\n",
              "BROWSE_NODE_ID                                                    \n",
              "1045            215698       209563         214798  215250  215698\n",
              "5                70317        45077          68777   70284   70318\n",
              "1251             51929        30167          50902   51915   51929\n",
              "1052             45553        38283          44282   45552   45553\n",
              "4                34168        13882          12501   16567   34177\n",
              "1295             32040        31250          31850   31971   32040\n",
              "1024             31961        11052          31449   31959   31961\n",
              "374              31896        30244          31208   31620   31896\n",
              "773              25898        16653          25490   25886   25899\n",
              "1194             25890        14472          25417   25886   25893\n",
              "1724             25535        16212          24977   25519   25536\n",
              "701              23425        10659          22557   23419   23425\n",
              "11               21660        17381          21298   21591   21660\n",
              "739              20750        16386          20392   20635   20750\n",
              "1049             20163        12692          19919   20156   20164\n",
              "89               19566         7741          18778   19563   19566\n",
              "1186             16941         9811          16371   16937   16941\n",
              "1687             16148        10847          15727   16162   16163\n",
              "803              16094        12618          15295   16017   16096\n",
              "251              16015        14445          15338   15912   16015\n",
              "1084             15687        13021          15301   15589   15688\n",
              "40               14784         4257          14606   14777   14784\n",
              "1003             13846         5640          13592   13838   13846\n",
              "413              13470        11183          13127   13413   13470\n",
              "1213             12876         5159          12631   12872   12876\n",
              "465              12873        11046          12393   12869   12873\n",
              "1254             12804         3127          12705   12804   12806\n",
              "55               11486         8059           8673    9973   11486\n",
              "1590             11098         9816          11043   11080   11098\n",
              "1409             10909         5323          10668   10905   10910\n",
              "912              10729         9411          10553   10693   10729\n",
              "810              10561         6007          10146   10556   10561\n",
              "324              10543        10064          10403   10526   10543\n",
              "1313             10345         9159          10092   10342   10345"
            ]
          },
          "metadata": {
            "tags": []
          },
          "execution_count": 27
        }
      ]
    },
    {
      "cell_type": "code",
      "metadata": {
        "colab": {
          "base_uri": "https://localhost:8080/"
        },
        "id": "jAo0VRivbFRP",
        "outputId": "8dc968fa-2f98-454d-f770-a7429dad848b"
      },
      "source": [
        "sum(browse_nodes['SLNO'][])"
      ],
      "execution_count": null,
      "outputs": [
        {
          "output_type": "execute_result",
          "data": {
            "text/plain": [
              "550197"
            ]
          },
          "metadata": {
            "tags": []
          },
          "execution_count": 49
        }
      ]
    },
    {
      "cell_type": "code",
      "metadata": {
        "colab": {
          "base_uri": "https://localhost:8080/",
          "height": 228
        },
        "id": "xTJaFZszW0MZ",
        "outputId": "3aca2d88-4c4e-4c71-f540-faa9766053b3"
      },
      "source": [
        "plt.rcParams[\"figure.figsize\"] = (20,3)\n",
        "#browse_nodes.index.values[:50]\n",
        "plt.bar(list(range(50)),browse_nodes['SLNO'][:50])"
      ],
      "execution_count": null,
      "outputs": [
        {
          "output_type": "execute_result",
          "data": {
            "text/plain": [
              "<BarContainer object of 50 artists>"
            ]
          },
          "metadata": {
            "tags": []
          },
          "execution_count": 45
        },
        {
          "output_type": "display_data",
          "data": {
            "image/png": "[encoded data removed]",
            "text/plain": [
              "<Figure size 1440x216 with 1 Axes>"
            ]
          },
          "metadata": {
            "tags": [],
            "needs_background": "light"
          }
        }
      ]
    },
    {
      "cell_type": "code",
      "metadata": {
        "id": "xGUId9OzfJ59"
      },
      "source": [
        "df_test = pd.read_csv('/content/gdrive/MyDrive/AmazonMLChallenge/test.csv', escapechar = \"\\\\\", quoting = csv.QUOTE_NONE)\n"
      ],
      "execution_count": null,
      "outputs": []
    },
    {
      "cell_type": "code",
      "metadata": {
        "colab": {
          "base_uri": "https://localhost:8080/",
          "height": 203
        },
        "id": "pXSQY71NjD_X",
        "outputId": "3908e694-56bb-4305-d0c4-40f5e4a1f86a"
      },
      "source": [
        "df_test.head()"
      ],
      "execution_count": null,
      "outputs": [
        {
          "output_type": "execute_result",
          "data": {
            "text/html": [
              "<div>\n",
              "<style scoped>\n",
              "    .dataframe tbody tr th:only-of-type {\n",
              "        vertical-align: middle;\n",
              "    }\n",
              "\n",
              "    .dataframe tbody tr th {\n",
              "        vertical-align: top;\n",
              "    }\n",
              "\n",
              "    .dataframe thead th {\n",
              "        text-align: right;\n",
              "    }\n",
              "</style>\n",
              "<table border=\"1\" class=\"dataframe\">\n",
              "  <thead>\n",
              "    <tr style=\"text-align: right;\">\n",
              "      <th></th>\n",
              "      <th>PRODUCT_ID</th>\n",
              "      <th>TITLE</th>\n",
              "      <th>DESCRIPTION</th>\n",
              "      <th>BULLET_POINTS</th>\n",
              "      <th>BRAND</th>\n",
              "    </tr>\n",
              "  </thead>\n",
              "  <tbody>\n",
              "    <tr>\n",
              "      <th>0</th>\n",
              "      <td>1</td>\n",
              "      <td>Command 3M Small Kitchen Hooks, White, Decorat...</td>\n",
              "      <td>Sale Unit: PACK</td>\n",
              "      <td>[INCLUDES - 9 hooks and 12 small indoor strips...</td>\n",
              "      <td>Command</td>\n",
              "    </tr>\n",
              "    <tr>\n",
              "      <th>1</th>\n",
              "      <td>2</td>\n",
              "      <td>O'Neal Jump Hardware JAG Unisex-Adult Glove (B...</td>\n",
              "      <td>Synthetic leather palm with double-layer thumb...</td>\n",
              "      <td>[Silicone printing for a better grip. Long las...</td>\n",
              "      <td>O'Neal</td>\n",
              "    </tr>\n",
              "    <tr>\n",
              "      <th>2</th>\n",
              "      <td>3</td>\n",
              "      <td>NFL Detroit Lions Portable Party Fridge, 15.8 ...</td>\n",
              "      <td>Boelter Brands lets you celebrate your favorit...</td>\n",
              "      <td>[Runs on 12 Volt DC Power or 110 Volt AC Power...</td>\n",
              "      <td>Boelter Brands</td>\n",
              "    </tr>\n",
              "    <tr>\n",
              "      <th>3</th>\n",
              "      <td>4</td>\n",
              "      <td>Panasonic Single Line KX-TS880MX Corded Phone ...</td>\n",
              "      <td>Features: 50 Station Phonebook Corded Phone Al...</td>\n",
              "      <td>Panasonic Landline Phones doesn't come with a ...</td>\n",
              "      <td>Panasonic</td>\n",
              "    </tr>\n",
              "    <tr>\n",
              "      <th>4</th>\n",
              "      <td>5</td>\n",
              "      <td>Zero Baby Girl's 100% Cotton Innerwear Bloomer...</td>\n",
              "      <td>Zero Baby Girl Panties Set. 100% Cotton, Breat...</td>\n",
              "      <td>[Zero Baby Girl Panties, Pack of 6, 100% Cotto...</td>\n",
              "      <td>Zero</td>\n",
              "    </tr>\n",
              "  </tbody>\n",
              "</table>\n",
              "</div>"
            ],
            "text/plain": [
              "   PRODUCT_ID  ...           BRAND\n",
              "0           1  ...         Command\n",
              "1           2  ...          O'Neal\n",
              "2           3  ...  Boelter Brands\n",
              "3           4  ...       Panasonic\n",
              "4           5  ...            Zero\n",
              "\n",
              "[5 rows x 5 columns]"
            ]
          },
          "metadata": {
            "tags": []
          },
          "execution_count": 39
        }
      ]
    },
    {
      "cell_type": "markdown",
      "metadata": {
        "id": "GFom2M4lX40L"
      },
      "source": [
        "## LDA - Latent Dirichlet Allocation\n",
        "### Topic Modelling"
      ]
    },
    {
      "cell_type": "code",
      "metadata": {
        "colab": {
          "base_uri": "https://localhost:8080/"
        },
        "id": "JLH21anSWcND",
        "outputId": "f50f6f43-ca2a-4330-e4fb-2fa82a8877a9"
      },
      "source": [
        "import gensim\n",
        "from gensim.utils import simple_preprocess\n",
        "from gensim.parsing.preprocessing import STOPWORDS\n",
        "from nltk.stem import WordNetLemmatizer, SnowballStemmer\n",
        "from nltk.stem import PorterStemmer\n",
        "from nltk.stem.porter import *\n",
        "import numpy as np\n",
        "np.random.seed(2018)\n",
        "import nltk\n",
        "nltk.download('wordnet')"
      ],
      "execution_count": 15,
      "outputs": [
        {
          "output_type": "stream",
          "text": [
            "[nltk_data] Downloading package wordnet to /root/nltk_data...\n",
            "[nltk_data]   Unzipping corpora/wordnet.zip.\n"
          ],
          "name": "stdout"
        },
        {
          "output_type": "execute_result",
          "data": {
            "text/plain": [
              "True"
            ]
          },
          "metadata": {
            "tags": []
          },
          "execution_count": 15
        }
      ]
    },
    {
      "cell_type": "code",
      "metadata": {
        "colab": {
          "base_uri": "https://localhost:8080/",
          "height": 287
        },
        "id": "tK8fw-nBS4hI",
        "outputId": "104fab3c-76e4-4055-d2f9-c9324ed8201f"
      },
      "source": [
        "df_train.drop(['PREPROCESSED_TITLE'],axis=1,inplace=True)\n",
        "df_train.head()"
      ],
      "execution_count": 26,
      "outputs": [
        {
          "output_type": "stream",
          "text": [
            "/usr/local/lib/python3.7/dist-packages/pandas/core/frame.py:4174: SettingWithCopyWarning: \n",
            "A value is trying to be set on a copy of a slice from a DataFrame\n",
            "\n",
            "See the caveats in the documentation: https://pandas.pydata.org/pandas-docs/stable/user_guide/indexing.html#returning-a-view-versus-a-copy\n",
            "  errors=errors,\n"
          ],
          "name": "stderr"
        },
        {
          "output_type": "execute_result",
          "data": {
            "text/html": [
              "<div>\n",
              "<style scoped>\n",
              "    .dataframe tbody tr th:only-of-type {\n",
              "        vertical-align: middle;\n",
              "    }\n",
              "\n",
              "    .dataframe tbody tr th {\n",
              "        vertical-align: top;\n",
              "    }\n",
              "\n",
              "    .dataframe thead th {\n",
              "        text-align: right;\n",
              "    }\n",
              "</style>\n",
              "<table border=\"1\" class=\"dataframe\">\n",
              "  <thead>\n",
              "    <tr style=\"text-align: right;\">\n",
              "      <th></th>\n",
              "      <th>TITLE</th>\n",
              "      <th>DESCRIPTION</th>\n",
              "      <th>BULLET_POINTS</th>\n",
              "      <th>BRAND</th>\n",
              "      <th>BROWSE_NODE_ID</th>\n",
              "    </tr>\n",
              "  </thead>\n",
              "  <tbody>\n",
              "    <tr>\n",
              "      <th>219892</th>\n",
              "      <td>Men in Black Men's Blended Unstitched Shirt an...</td>\n",
              "      <td>This is a combo pack containing 3 pair of suit...</td>\n",
              "      <td>[Material Type: Blended,Colour: Multi-Colour,L...</td>\n",
              "      <td>Men in Black</td>\n",
              "      <td>5022</td>\n",
              "    </tr>\n",
              "    <tr>\n",
              "      <th>1615029</th>\n",
              "      <td>trendnet Micro n150 Wireless &amp; Bluetooth 4.0 U...</td>\n",
              "      <td>Provides Bluetooth and WiFi Connections, allow...</td>\n",
              "      <td>TRENDnet TBW-108UB IEEE 802.11n - Wi-Fi/Blueto...</td>\n",
              "      <td>TRENDnet</td>\n",
              "      <td>487</td>\n",
              "    </tr>\n",
              "    <tr>\n",
              "      <th>744110</th>\n",
              "      <td>Fake Note Detector 1</td>\n",
              "      <td>Fake note detector 1</td>\n",
              "      <td>Body : Metal ( Heavyduty Indian )Water mark De...</td>\n",
              "      <td>alpha</td>\n",
              "      <td>10385</td>\n",
              "    </tr>\n",
              "    <tr>\n",
              "      <th>2464986</th>\n",
              "      <td>Zivite Full Body 3-in-1 Slim Fit (Red-Black-Re...</td>\n",
              "      <td>Premium Design Beautiful design, elegant appea...</td>\n",
              "      <td>[COMPATIBLITY: Compatible / Suitable Only for ...</td>\n",
              "      <td>zivite</td>\n",
              "      <td>1045</td>\n",
              "    </tr>\n",
              "    <tr>\n",
              "      <th>2808183</th>\n",
              "      <td>Tanishka SHIVAY SALES Polyester Black Messenge...</td>\n",
              "      <td>Messenger bag with laptop compartment in it, f...</td>\n",
              "      <td>[Messenger bag with laptop compartment in it, ...</td>\n",
              "      <td>Tanishka</td>\n",
              "      <td>2093</td>\n",
              "    </tr>\n",
              "  </tbody>\n",
              "</table>\n",
              "</div>"
            ],
            "text/plain": [
              "                                                     TITLE  ... BROWSE_NODE_ID\n",
              "219892   Men in Black Men's Blended Unstitched Shirt an...  ...           5022\n",
              "1615029  trendnet Micro n150 Wireless & Bluetooth 4.0 U...  ...            487\n",
              "744110                                Fake Note Detector 1  ...          10385\n",
              "2464986  Zivite Full Body 3-in-1 Slim Fit (Red-Black-Re...  ...           1045\n",
              "2808183  Tanishka SHIVAY SALES Polyester Black Messenge...  ...           2093\n",
              "\n",
              "[5 rows x 5 columns]"
            ]
          },
          "metadata": {
            "tags": []
          },
          "execution_count": 26
        }
      ]
    },
    {
      "cell_type": "code",
      "metadata": {
        "id": "EvPTOS0UXDMf"
      },
      "source": [
        "def lemmatize_stemming(text):\n",
        "    return WordNetLemmatizer().lemmatize(text, pos='v')\n",
        "\n",
        "def preprocess(text):\n",
        "    result = []\n",
        "    for token in gensim.utils.simple_preprocess(text):\n",
        "        if token not in gensim.parsing.preprocessing.STOPWORDS and len(token) > 2:\n",
        "            result.append(lemmatize_stemming(token))\n",
        "    return result"
      ],
      "execution_count": 18,
      "outputs": []
    },
    {
      "cell_type": "code",
      "metadata": {
        "id": "fqKH5LoQOs2O"
      },
      "source": [
        "df_train.head()"
      ],
      "execution_count": null,
      "outputs": []
    },
    {
      "cell_type": "code",
      "metadata": {
        "id": "vV6m8UviZg12"
      },
      "source": [
        "dictionary = gensim.corpora.Dictionary(df['TOKENS'])\n",
        "print(dictionary)"
      ],
      "execution_count": null,
      "outputs": []
    },
    {
      "cell_type": "code",
      "metadata": {
        "id": "G373i3RWZiVO"
      },
      "source": [
        "dictionary.filter_extremes(no_below=15, no_above=0.5)"
      ],
      "execution_count": null,
      "outputs": []
    },
    {
      "cell_type": "code",
      "metadata": {
        "id": "khn-cKeiXj1i"
      },
      "source": [
        "bow_corpus = [dictionary.doc2bow(doc) for doc in df['TOKENS']]"
      ],
      "execution_count": null,
      "outputs": []
    },
    {
      "cell_type": "code",
      "metadata": {
        "id": "uf6VXFDpach1"
      },
      "source": [
        "from gensim import corpora, models\n",
        "tfidf = models.TfidfModel(bow_corpus)\n",
        "corpus_tfidf = tfidf[bow_corpus]\n",
        "from pprint import pprint\n",
        "for doc in corpus_tfidf:\n",
        "    pprint(doc)\n",
        "    break"
      ],
      "execution_count": null,
      "outputs": []
    },
    {
      "cell_type": "code",
      "metadata": {
        "id": "4TLR_XLWapBC"
      },
      "source": [
        "from gensim.models import CoherenceModel\n",
        "# Compute Coherence Score\n",
        "coherence_model_lda = CoherenceModel(model=lda_model_tfidf, texts=df_train['TOKENS'], dictionary=dictionary, coherence='c_v')\n",
        "coherence_lda = coherence_model_lda.get_coherence()\n",
        "print('\\nCoherence Score: ', coherence_lda)"
      ],
      "execution_count": null,
      "outputs": []
    },
    {
      "cell_type": "code",
      "metadata": {
        "id": "gDwKMZlnap2F"
      },
      "source": [
        "def compute_coherence_values(corpus, dictionary, k,preproc):\n",
        "    lda_model_tfidf = gensim.models.LdaMulticore(corpus, num_topics=k, id2word=dictionary, passes=2, workers=4)                                           \n",
        "    coherence_model_lda = CoherenceModel(model=lda_model_tfidf, texts=preproc, dictionary=dictionary, coherence='c_v')\n",
        "    coherence_lda = coherence_model_lda.get_coherence()\n",
        "    print('n = ' ,k)\n",
        "    print('Coherence Score: ', coherence_lda)\n",
        "    return coherence_lda"
      ],
      "execution_count": null,
      "outputs": []
    },
    {
      "cell_type": "code",
      "metadata": {
        "id": "k2BY0bVla1DS"
      },
      "source": [
        "i=10\n",
        "y=[]\n",
        "x =[]\n",
        "while(i<=10**4):\n",
        "  yy =compute_coherence_values(corpus_tfidf, dictionary, i,processed_docs)\n",
        "  x.append(i)\n",
        "  y.append(yy)\n",
        "  i+=500"
      ],
      "execution_count": null,
      "outputs": []
    },
    {
      "cell_type": "code",
      "metadata": {
        "id": "8d9BcPBwa5Fd"
      },
      "source": [
        "import matplotlib.pyplot as plt \n",
        "plt.plot(x, y, label = \"line 1\") \n",
        "plt.xlabel('num_topics') \n",
        "# naming the y axis \n",
        "plt.ylabel('cv_score') \n",
        "plt.title('CV_Score')"
      ],
      "execution_count": null,
      "outputs": []
    },
    {
      "cell_type": "code",
      "metadata": {
        "id": "AIY1xySCa9I5"
      },
      "source": [
        ""
      ],
      "execution_count": null,
      "outputs": []
    }
  ]
}