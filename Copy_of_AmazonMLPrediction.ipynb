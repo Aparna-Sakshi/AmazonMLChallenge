{
  "nbformat": 4,
  "nbformat_minor": 0,
  "metadata": {
    "colab": {
      "name": "Copy of AmazonMLPrediction.ipynb",
      "provenance": []
    },
    "kernelspec": {
      "name": "python3",
      "display_name": "Python 3"
    },
    "language_info": {
      "name": "python"
    }
  },
  "cells": [
    {
      "cell_type": "code",
      "metadata": {
        "id": "6LuUPT_5cVNQ",
        "colab": {
          "base_uri": "https://localhost:8080/"
        },
        "outputId": "867bbeef-d8ba-416a-8e83-4543027c44b9"
      },
      "source": [
        "from google.colab import drive\n",
        "drive.mount('/content/gdrive')"
      ],
      "execution_count": 1,
      "outputs": [
        {
          "output_type": "stream",
          "text": [
            "Mounted at /content/gdrive\n"
          ],
          "name": "stdout"
        }
      ]
    },
    {
      "cell_type": "code",
      "metadata": {
        "id": "YS0eA2dKlGhy"
      },
      "source": [
        "chunksize = (10 ** 5)\n",
        "filename = \"/content/gdrive/MyDrive/AmazonMLChallenge/test.csv\"\n",
        "cols=[\"DOCUMENT\"]\n",
        "chunk_number=0\n",
        "for chunk in pd.read_csv(filename, chunksize=chunksize, escapechar = \"\\\\\", na_values='' ,quoting = csv.QUOTE_NONE):\n",
        "  chunk_number+=1 \n",
        "  chunk.fillna(\" \",inplace=True)\n",
        "  print(\"Processing Chunk:\",chunk_number)\n",
        "  processed_chunk = pd.DataFrame()  \n",
        "  processed_chunk[\"DOCUMENT\"] = process(chunk)  \n",
        "  if chunk_number==1:\n",
        "    processed_chunk.to_csv('/content/gdrive/MyDrive/AmazonMLChallenge/final_processed_test.txt')\n",
        "  else:\n",
        "    processed_chunk.to_csv('/content/gdrive/MyDrive/AmazonMLChallenge/final_processed_test.txt', mode='a', header=False)    \n",
        "  "
      ],
      "execution_count": null,
      "outputs": []
    },
    {
      "cell_type": "code",
      "metadata": {
        "id": "Bj8j5kiXk7Q3",
        "colab": {
          "base_uri": "https://localhost:8080/"
        },
        "outputId": "4a1a01a0-e4b6-4bd2-c6af-87f265f35baa"
      },
      "source": [
        "!pip install fasttext"
      ],
      "execution_count": 2,
      "outputs": [
        {
          "output_type": "stream",
          "text": [
            "Collecting fasttext\n",
            "  Downloading fasttext-0.9.2.tar.gz (68 kB)\n",
            "\u001b[?25l\r\u001b[K     |████▊                           | 10 kB 22.3 MB/s eta 0:00:01\r\u001b[K     |█████████▌                      | 20 kB 27.3 MB/s eta 0:00:01\r\u001b[K     |██████████████▎                 | 30 kB 26.8 MB/s eta 0:00:01\r\u001b[K     |███████████████████             | 40 kB 19.7 MB/s eta 0:00:01\r\u001b[K     |███████████████████████▉        | 51 kB 8.5 MB/s eta 0:00:01\r\u001b[K     |████████████████████████████▋   | 61 kB 9.1 MB/s eta 0:00:01\r\u001b[K     |████████████████████████████████| 68 kB 4.2 MB/s \n",
            "\u001b[?25hCollecting pybind11>=2.2\n",
            "  Using cached pybind11-2.7.0-py2.py3-none-any.whl (199 kB)\n",
            "Requirement already satisfied: setuptools>=0.7.0 in /usr/local/lib/python3.7/dist-packages (from fasttext) (57.2.0)\n",
            "Requirement already satisfied: numpy in /usr/local/lib/python3.7/dist-packages (from fasttext) (1.19.5)\n",
            "Building wheels for collected packages: fasttext\n",
            "  Building wheel for fasttext (setup.py) ... \u001b[?25l\u001b[?25hdone\n",
            "  Created wheel for fasttext: filename=fasttext-0.9.2-cp37-cp37m-linux_x86_64.whl size=3093476 sha256=d4cb52de9548f1c6bc9099def4976dee23241c6519f7729c0d522e37b449fae6\n",
            "  Stored in directory: /root/.cache/pip/wheels/4e/ca/bf/b020d2be95f7641801a6597a29c8f4f19e38f9c02a345bab9b\n",
            "Successfully built fasttext\n",
            "Installing collected packages: pybind11, fasttext\n",
            "Successfully installed fasttext-0.9.2 pybind11-2.7.0\n"
          ],
          "name": "stdout"
        }
      ]
    },
    {
      "cell_type": "code",
      "metadata": {
        "id": "KZA7PKWVk587"
      },
      "source": [
        "import fasttext\n",
        "train_file = '/content/gdrive/MyDrive/AmazonMLChallenge/processed_train.txt'\n",
        "test_file = '/content/gdrive/MyDrive/AmazonMLChallenge/processed_test.txt'"
      ],
      "execution_count": 3,
      "outputs": []
    },
    {
      "cell_type": "code",
      "metadata": {
        "id": "Z9hRTo-yqSj_"
      },
      "source": [
        "model = fasttext.train_supervised(input=train_file, lr=1, epoch=5, wordNgrams=2,  loss='hs')"
      ],
      "execution_count": 4,
      "outputs": []
    },
    {
      "cell_type": "code",
      "metadata": {
        "id": "jiP_VaqjvmPJ"
      },
      "source": [
        "# with the previously trained `model` object, call :\n",
        "model.quantize(input='data.train.txt', retrain=True)\n",
        "\n",
        "# then display results and save the new model :\n",
        "print(model.test(test_file))\n",
        "model.save_model(\"model_filename.ftz\")"
      ],
      "execution_count": null,
      "outputs": []
    },
    {
      "cell_type": "code",
      "metadata": {
        "id": "SFZYYaZWkEhg"
      },
      "source": [
        "# Or load pre-trained classifier\n",
        "classifier = fasttext.load_model('/content/gdrive/MyDrive/AmazonMLChallenge/model.bin', label_prefix='__label__')"
      ],
      "execution_count": null,
      "outputs": []
    },
    {
      "cell_type": "code",
      "metadata": {
        "id": "N2bVBqm8knBT"
      },
      "source": [
        ""
      ],
      "execution_count": null,
      "outputs": []
    }
  ]
}